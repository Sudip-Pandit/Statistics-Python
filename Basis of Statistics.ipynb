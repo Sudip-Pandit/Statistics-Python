{
 "cells": [
  {
   "cell_type": "markdown",
   "id": "aced6be8",
   "metadata": {},
   "source": [
    "# Statistics: The numeric summaries of data that is analyzed in some way. \n",
    "### There are various ways to calculate the statistics:-\n",
    "1) Mean 2) Median 3) Mode 4) Standard deviation 5) variance \n",
    "\n",
    "#### Mean:- Simply, the average of observations. \n",
    "#### Median:- The number which is in the middle of the dataset and it is sorted in order.\n",
    "#### Mode:- The most frequent number present in the dataset.\n",
    "#### Standard Deviation:- This gives how much data values deviate from the mean value.\n",
    "###### It measures how much data values deviate from the arithmetic mean.\n",
    "#### Variance:- Variance is another measure which gives variation in dataset.\n",
    "#### Range:- It gives how far away the two most extreme values are. It gives the variation of data.\n",
    "\n"
   ]
  },
  {
   "cell_type": "markdown",
   "id": "013e0a68",
   "metadata": {},
   "source": [
    "#### Concepts:- \n",
    "#### Uniform and skewed distribution:- \n",
    "###### Uniform distribution refers to a condition when all the data points in a dataset are equally spread across the\n",
    "###### range of distribution. Skewed distribution refers when one side has the more data points than other side and it gives as of the graph shape. "
   ]
  },
  {
   "cell_type": "code",
   "execution_count": 3,
   "id": "adaef939",
   "metadata": {},
   "outputs": [
    {
     "name": "stdout",
     "output_type": "stream",
     "text": [
      "Average : 4.5\n"
     ]
    }
   ],
   "source": [
    "# mean\n",
    "import numpy as np\n",
    "x = [2,3,4,5,6,7]\n",
    "print(\"Average :\", np.mean(x))"
   ]
  },
  {
   "cell_type": "code",
   "execution_count": 5,
   "id": "af186b69",
   "metadata": {},
   "outputs": [
    {
     "name": "stdout",
     "output_type": "stream",
     "text": [
      "Median : 4.5\n"
     ]
    }
   ],
   "source": [
    "# meadian\n",
    "print(\"Median :\", np.median(x))"
   ]
  },
  {
   "cell_type": "code",
   "execution_count": 10,
   "id": "631dbba1",
   "metadata": {},
   "outputs": [
    {
     "name": "stdout",
     "output_type": "stream",
     "text": [
      "Mode : ModeResult(mode=array([85]), count=array([2]))\n"
     ]
    }
   ],
   "source": [
    "# mode\n",
    "from scipy import stats\n",
    "marks = [54,85,85,56,57]\n",
    "print(\"Mode :\", stats.mode(marks))"
   ]
  },
  {
   "cell_type": "code",
   "execution_count": 13,
   "id": "7c287c29",
   "metadata": {},
   "outputs": [
    {
     "name": "stdout",
     "output_type": "stream",
     "text": [
      "The range is : 31\n"
     ]
    }
   ],
   "source": [
    "# range\n",
    "print(\"The range is :\", (max(marks)-min(marks)))"
   ]
  },
  {
   "cell_type": "code",
   "execution_count": 14,
   "id": "99ffb370",
   "metadata": {},
   "outputs": [
    {
     "name": "stdout",
     "output_type": "stream",
     "text": [
      "The standard deviation is : 17.843210621669414\n"
     ]
    }
   ],
   "source": [
    "# standard deviation: It gives how much data values deviate from the arithmetic mean\n",
    "# How spread out the data is\n",
    "marks_student = [43,45,65,98,94,54,60,62,54,76,83]\n",
    "print(\"The standard deviation is :\", np.std(marks_student))"
   ]
  },
  {
   "cell_type": "code",
   "execution_count": 18,
   "id": "74fdd7e1",
   "metadata": {},
   "outputs": [
    {
     "name": "stdout",
     "output_type": "stream",
     "text": [
      "The variance is : 318.3801652892562\n"
     ]
    }
   ],
   "source": [
    "# variance : This is another measure of variation in dataset. If we square the standard deviation, then we will get variance.\n",
    "import math\n",
    "print(\"The variance is :\", np.var(marks_student))"
   ]
  },
  {
   "cell_type": "code",
   "execution_count": 20,
   "id": "b95e4e4d",
   "metadata": {},
   "outputs": [
    {
     "data": {
      "image/png": "[encoded data removed]",
      "text/plain": [
       "<Figure size 432x288 with 1 Axes>"
      ]
     },
     "metadata": {
      "needs_background": "light"
     },
     "output_type": "display_data"
    }
   ],
   "source": [
    "# box plot\n",
    "import matplotlib.pyplot as plt\n",
    "plt.boxplot(marks_student)\n",
    "plt.show()"
   ]
  },
  {
   "cell_type": "code",
   "execution_count": null,
   "id": "ee39e4e3",
   "metadata": {},
   "outputs": [],
   "source": []
  }
 ],
 "metadata": {
  "kernelspec": {
   "display_name": "Python 3",
   "language": "python",
   "name": "python3"
  },
  "language_info": {
   "codemirror_mode": {
    "name": "ipython",
    "version": 3
   },
   "file_extension": ".py",
   "mimetype": "text/x-python",
   "name": "python",
   "nbconvert_exporter": "python",
   "pygments_lexer": "ipython3",
   "version": "3.8.8"
  }
 },
 "nbformat": 4,
 "nbformat_minor": 5
}
